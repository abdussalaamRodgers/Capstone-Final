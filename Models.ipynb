{
 "cells": [
  {
   "cell_type": "code",
   "execution_count": 99,
   "metadata": {},
   "outputs": [],
   "source": [
    "import pandas as pd\n",
    "from sklearn.ensemble import RandomForestClassifier\n",
    "from sklearn.model_selection import train_test_split\n",
    "from sklearn.metrics import accuracy_score\n",
    "from catboost import CatBoostClassifier\n",
    "import xgboost as xgb\n",
    "from sklearn.metrics import accuracy_score\n",
    "from sklearn.preprocessing import LabelEncoder\n",
    "from sklearn.preprocessing import OneHotEncoder"
   ]
  },
  {
   "cell_type": "code",
   "execution_count": 100,
   "metadata": {},
   "outputs": [],
   "source": [
    "df = pd.read_csv('C:/Users/User/Desktop/Capstone Project/dataset1.csv')"
   ]
  },
  {
   "cell_type": "code",
   "execution_count": 101,
   "metadata": {},
   "outputs": [
    {
     "data": {
      "text/html": [
       "<div>\n",
       "<style scoped>\n",
       "    .dataframe tbody tr th:only-of-type {\n",
       "        vertical-align: middle;\n",
       "    }\n",
       "\n",
       "    .dataframe tbody tr th {\n",
       "        vertical-align: top;\n",
       "    }\n",
       "\n",
       "    .dataframe thead th {\n",
       "        text-align: right;\n",
       "    }\n",
       "</style>\n",
       "<table border=\"1\" class=\"dataframe\">\n",
       "  <thead>\n",
       "    <tr style=\"text-align: right;\">\n",
       "      <th></th>\n",
       "      <th>Race</th>\n",
       "      <th>Year</th>\n",
       "      <th>Lap</th>\n",
       "      <th>Air Temperature</th>\n",
       "      <th>Humidity</th>\n",
       "      <th>Pressure</th>\n",
       "      <th>Rainfall</th>\n",
       "      <th>Track Temperature</th>\n",
       "      <th>Wind Direction</th>\n",
       "      <th>Wind Speed</th>\n",
       "      <th>DriverNumber</th>\n",
       "      <th>Compound_Encoded</th>\n",
       "    </tr>\n",
       "  </thead>\n",
       "  <tbody>\n",
       "    <tr>\n",
       "      <th>0</th>\n",
       "      <td>2</td>\n",
       "      <td>2019</td>\n",
       "      <td>0</td>\n",
       "      <td>23.7</td>\n",
       "      <td>70.3</td>\n",
       "      <td>1015.4</td>\n",
       "      <td>0</td>\n",
       "      <td>43.6</td>\n",
       "      <td>176</td>\n",
       "      <td>1.4</td>\n",
       "      <td>10</td>\n",
       "      <td>0.0</td>\n",
       "    </tr>\n",
       "    <tr>\n",
       "      <th>1</th>\n",
       "      <td>2</td>\n",
       "      <td>2019</td>\n",
       "      <td>1</td>\n",
       "      <td>23.6</td>\n",
       "      <td>70.1</td>\n",
       "      <td>1015.3</td>\n",
       "      <td>0</td>\n",
       "      <td>43.3</td>\n",
       "      <td>191</td>\n",
       "      <td>1.3</td>\n",
       "      <td>10</td>\n",
       "      <td>0.0</td>\n",
       "    </tr>\n",
       "    <tr>\n",
       "      <th>2</th>\n",
       "      <td>2</td>\n",
       "      <td>2019</td>\n",
       "      <td>2</td>\n",
       "      <td>23.5</td>\n",
       "      <td>70.5</td>\n",
       "      <td>1015.4</td>\n",
       "      <td>0</td>\n",
       "      <td>43.4</td>\n",
       "      <td>68</td>\n",
       "      <td>1.3</td>\n",
       "      <td>10</td>\n",
       "      <td>0.0</td>\n",
       "    </tr>\n",
       "    <tr>\n",
       "      <th>3</th>\n",
       "      <td>2</td>\n",
       "      <td>2019</td>\n",
       "      <td>3</td>\n",
       "      <td>23.7</td>\n",
       "      <td>69.1</td>\n",
       "      <td>1015.3</td>\n",
       "      <td>0</td>\n",
       "      <td>43.4</td>\n",
       "      <td>328</td>\n",
       "      <td>1.8</td>\n",
       "      <td>10</td>\n",
       "      <td>0.0</td>\n",
       "    </tr>\n",
       "    <tr>\n",
       "      <th>4</th>\n",
       "      <td>2</td>\n",
       "      <td>2019</td>\n",
       "      <td>4</td>\n",
       "      <td>23.7</td>\n",
       "      <td>69.1</td>\n",
       "      <td>1015.4</td>\n",
       "      <td>0</td>\n",
       "      <td>43.0</td>\n",
       "      <td>149</td>\n",
       "      <td>1.2</td>\n",
       "      <td>10</td>\n",
       "      <td>0.0</td>\n",
       "    </tr>\n",
       "  </tbody>\n",
       "</table>\n",
       "</div>"
      ],
      "text/plain": [
       "   Race  Year  Lap  Air Temperature  Humidity  Pressure  Rainfall  \\\n",
       "0     2  2019    0             23.7      70.3    1015.4         0   \n",
       "1     2  2019    1             23.6      70.1    1015.3         0   \n",
       "2     2  2019    2             23.5      70.5    1015.4         0   \n",
       "3     2  2019    3             23.7      69.1    1015.3         0   \n",
       "4     2  2019    4             23.7      69.1    1015.4         0   \n",
       "\n",
       "   Track Temperature  Wind Direction  Wind Speed  DriverNumber  \\\n",
       "0               43.6             176         1.4            10   \n",
       "1               43.3             191         1.3            10   \n",
       "2               43.4              68         1.3            10   \n",
       "3               43.4             328         1.8            10   \n",
       "4               43.0             149         1.2            10   \n",
       "\n",
       "   Compound_Encoded  \n",
       "0               0.0  \n",
       "1               0.0  \n",
       "2               0.0  \n",
       "3               0.0  \n",
       "4               0.0  "
      ]
     },
     "execution_count": 101,
     "metadata": {},
     "output_type": "execute_result"
    }
   ],
   "source": [
    "df.head()"
   ]
  },
  {
   "cell_type": "code",
   "execution_count": 102,
   "metadata": {},
   "outputs": [],
   "source": [
    "df = df.drop('Year', axis=1)"
   ]
  },
  {
   "cell_type": "markdown",
   "metadata": {},
   "source": [
    "Random Forest"
   ]
  },
  {
   "cell_type": "code",
   "execution_count": 103,
   "metadata": {},
   "outputs": [
    {
     "name": "stdout",
     "output_type": "stream",
     "text": [
      "Random Forest Accuracy: 0.8535286284953395\n"
     ]
    }
   ],
   "source": [
    "# Drop 'Compound_Encoded' column to use as target (y)\n",
    "X = df.drop('Compound_Encoded', axis=1)\n",
    "y = df['Compound_Encoded']\n",
    "\n",
    "# One-Hot Encode the categorical features\n",
    "X_encoded = pd.get_dummies(X)\n",
    "\n",
    "# Train-test split\n",
    "X_train, X_test, y_train, y_test = train_test_split(X_encoded, y, test_size=0.2, random_state=42)\n",
    "\n",
    "# Build the Random Forest model with specified hyperparameters\n",
    "rf_model = RandomForestClassifier(\n",
    "    n_estimators=200,       # Number of trees\n",
    "    max_depth=21,           # Maximum depth of each tree\n",
    "    min_samples_split=3,    # Minimum number of samples required to split an internal node\n",
    "    min_samples_leaf=1,     # Minimum number of samples required at a leaf node\n",
    "    random_state=42         # Random seed for reproducibility\n",
    ")\n",
    "\n",
    "# Train the model\n",
    "rf_model.fit(X_train, y_train)\n",
    "\n",
    "# Predict and evaluate\n",
    "y_pred = rf_model.predict(X_test)\n",
    "accuracy = accuracy_score(y_test, y_pred)\n",
    "print(f\"Random Forest Accuracy: {accuracy}\")\n",
    "\n"
   ]
  },
  {
   "cell_type": "code",
   "execution_count": 104,
   "metadata": {},
   "outputs": [
    {
     "name": "stdout",
     "output_type": "stream",
     "text": [
      "Predicted Compound: 0.0\n"
     ]
    }
   ],
   "source": [
    "import pandas as pd\n",
    "from sklearn.ensemble import RandomForestClassifier\n",
    "from sklearn.model_selection import train_test_split\n",
    "from sklearn.metrics import accuracy_score\n",
    "\n",
    "\n",
    "# Create new input data\n",
    "new_data = {\n",
    "    'Race': [2],\n",
    "    'Lap': [5],\n",
    "    'Air Temperature': [23.6],\n",
    "    'Humidity': [69.0],\n",
    "    'Pressure': [1015.4],\n",
    "    'Rainfall': [0],\n",
    "    'Track Temperature': [42.9],\n",
    "    'Wind Direction': [150],\n",
    "    'Wind Speed': [1.2],\n",
    "    'DriverNumber': [44]\n",
    "}\n",
    "\n",
    "new_input = pd.DataFrame(new_data)\n",
    "\n",
    "# One-hot encode the new input data\n",
    "new_input_encoded = pd.get_dummies(new_input)\n",
    "\n",
    "# Ensure the new input has the same columns as the training data\n",
    "new_input_encoded = new_input_encoded.reindex(columns=X_train.columns, fill_value=0)\n",
    "\n",
    "# Predict with the Random Forest model\n",
    "predicted_compound = rf_model.predict(new_input_encoded)\n",
    "\n",
    "# Print the result\n",
    "print(f\"Predicted Compound: {predicted_compound[0]}\")\n"
   ]
  },
  {
   "cell_type": "code",
   "execution_count": 105,
   "metadata": {},
   "outputs": [],
   "source": [
    "import pickle\n",
    "\n",
    "# Assuming your model is stored in a variable called 'model'\n",
    "with open('model.pkl', 'wb') as file:\n",
    "    pickle.dump(rf_model, file)\n"
   ]
  },
  {
   "cell_type": "markdown",
   "metadata": {},
   "source": [
    "CatBoost"
   ]
  },
  {
   "cell_type": "code",
   "execution_count": 106,
   "metadata": {},
   "outputs": [
    {
     "name": "stdout",
     "output_type": "stream",
     "text": [
      "CatBoost Accuracy: 0.8255659121171771\n"
     ]
    }
   ],
   "source": [
    "# Build CatBoost model\n",
    "cat_model = CatBoostClassifier(verbose=0)\n",
    "cat_model.fit(X_train, y_train)\n",
    "\n",
    "# Predict and evaluate\n",
    "y_pred = cat_model.predict(X_test)\n",
    "accuracy = accuracy_score(y_test, y_pred)\n",
    "print(f\"CatBoost Accuracy: {accuracy}\")\n"
   ]
  },
  {
   "cell_type": "markdown",
   "metadata": {},
   "source": [
    "XGBoost"
   ]
  },
  {
   "cell_type": "code",
   "execution_count": 107,
   "metadata": {},
   "outputs": [
    {
     "name": "stderr",
     "output_type": "stream",
     "text": [
      "c:\\Users\\User\\anaconda3\\lib\\site-packages\\xgboost\\core.py:158: UserWarning: [23:15:02] WARNING: C:\\buildkite-agent\\builds\\buildkite-windows-cpu-autoscaling-group-i-0015a694724fa8361-1\\xgboost\\xgboost-ci-windows\\src\\learner.cc:740: \n",
      "Parameters: { \"n_estimators\" } are not used.\n",
      "\n",
      "  warnings.warn(smsg, UserWarning)\n"
     ]
    },
    {
     "name": "stdout",
     "output_type": "stream",
     "text": [
      "XGBoost Accuracy: 0.8135818908122503\n"
     ]
    }
   ],
   "source": [
    "X = df.drop('Compound_Encoded', axis=1)\n",
    "y = df['Compound_Encoded']\n",
    "\n",
    "# One-Hot Encode categorical features\n",
    "X_encoded = pd.get_dummies(X)\n",
    "\n",
    "# Convert target labels to integers using LabelEncoder\n",
    "le = LabelEncoder()\n",
    "y_encoded = le.fit_transform(y)\n",
    "\n",
    "# Train-test split\n",
    "X_train, X_test, y_train, y_test = train_test_split(X_encoded, y_encoded, test_size=0.2, random_state=42)\n",
    "\n",
    "# Convert data into DMatrix\n",
    "dtrain = xgb.DMatrix(X_train, label=y_train)\n",
    "dtest = xgb.DMatrix(X_test, label=y_test)\n",
    "\n",
    "# Define XGBoost parameters\n",
    "params = {\n",
    "    'objective': 'multi:softmax',  # Multi-class classification\n",
    "    'num_class': len(le.classes_),  # Number of classes in target\n",
    "    'max_depth': 6,\n",
    "    'learning_rate': 0.1,\n",
    "    'n_estimators': 100\n",
    "}\n",
    "\n",
    "# Train XGBoost model with multi-class objective\n",
    "bst = xgb.train(params, xgb.DMatrix(X_train, label=y_train), num_boost_round=100)\n",
    "\n",
    "# Make predictions\n",
    "y_pred = bst.predict(dtest)\n",
    "\n",
    "# Evaluate the model\n",
    "accuracy = accuracy_score(y_test, y_pred)\n",
    "print(f\"XGBoost Accuracy: {accuracy}\")\n"
   ]
  },
  {
   "cell_type": "code",
   "execution_count": 108,
   "metadata": {},
   "outputs": [
    {
     "name": "stderr",
     "output_type": "stream",
     "text": [
      "c:\\Users\\User\\anaconda3\\lib\\site-packages\\xgboost\\core.py:158: UserWarning: [23:15:09] WARNING: C:\\buildkite-agent\\builds\\buildkite-windows-cpu-autoscaling-group-i-0015a694724fa8361-1\\xgboost\\xgboost-ci-windows\\src\\learner.cc:740: \n",
      "Parameters: { \"n_estimators\" } are not used.\n",
      "\n",
      "  warnings.warn(smsg, UserWarning)\n"
     ]
    },
    {
     "data": {
      "image/png": "[encoded data removed]",
      "text/plain": [
       "<Figure size 720x432 with 1 Axes>"
      ]
     },
     "metadata": {
      "needs_background": "light"
     },
     "output_type": "display_data"
    }
   ],
   "source": [
    "import matplotlib.pyplot as plt\n",
    "from sklearn.metrics import accuracy_score\n",
    "\n",
    "# Initialize a dictionary to store the results\n",
    "results = {}\n",
    "\n",
    "# Random Forest Model\n",
    "rf_model = RandomForestClassifier(n_estimators=100, random_state=42)\n",
    "rf_model.fit(X_train, y_train)\n",
    "\n",
    "# Random Forest Predictions and Accuracy\n",
    "y_pred_train_rf = rf_model.predict(X_train)\n",
    "y_pred_test_rf = rf_model.predict(X_test)\n",
    "rf_train_accuracy = accuracy_score(y_train, y_pred_train_rf)\n",
    "rf_test_accuracy = accuracy_score(y_test, y_pred_test_rf)\n",
    "\n",
    "# Store Random Forest results\n",
    "results['Random Forest'] = {\n",
    "    'train_accuracy': rf_train_accuracy,\n",
    "    'test_accuracy': rf_test_accuracy\n",
    "}\n",
    "\n",
    "# CatBoost Model\n",
    "cat_model = CatBoostClassifier(verbose=0)\n",
    "cat_model.fit(X_train, y_train)\n",
    "\n",
    "# CatBoost Predictions and Accuracy\n",
    "y_pred_train_cat = cat_model.predict(X_train)\n",
    "y_pred_test_cat = cat_model.predict(X_test)\n",
    "cat_train_accuracy = accuracy_score(y_train, y_pred_train_cat)\n",
    "cat_test_accuracy = accuracy_score(y_test, y_pred_test_cat)\n",
    "\n",
    "# Store CatBoost results\n",
    "results['CatBoost'] = {\n",
    "    'train_accuracy': cat_train_accuracy,\n",
    "    'test_accuracy': cat_test_accuracy\n",
    "}\n",
    "\n",
    "# XGBoost Model\n",
    "dtrain = xgb.DMatrix(X_train, label=y_train)\n",
    "dtest = xgb.DMatrix(X_test, label=y_test)\n",
    "\n",
    "params = {\n",
    "    'objective': 'multi:softmax',\n",
    "    'num_class': len(le.classes_),\n",
    "    'max_depth': 6,\n",
    "    'learning_rate': 0.1,\n",
    "    'n_estimators': 100\n",
    "}\n",
    "\n",
    "bst = xgb.train(params, dtrain, num_boost_round=100)\n",
    "\n",
    "# XGBoost Predictions and Accuracy\n",
    "y_pred_train_xgb = bst.predict(dtrain)\n",
    "y_pred_test_xgb = bst.predict(dtest)\n",
    "xgb_train_accuracy = accuracy_score(y_train, y_pred_train_xgb)\n",
    "xgb_test_accuracy = accuracy_score(y_test, y_pred_test_xgb)\n",
    "\n",
    "# Store XGBoost results\n",
    "results['XGBoost'] = {\n",
    "    'train_accuracy': xgb_train_accuracy,\n",
    "    'test_accuracy': xgb_test_accuracy\n",
    "}\n",
    "\n",
    "# Plot the results\n",
    "labels = list(results.keys())\n",
    "train_accuracies = [results[model]['train_accuracy'] for model in labels]\n",
    "test_accuracies = [results[model]['test_accuracy'] for model in labels]\n",
    "\n",
    "x = range(len(labels))\n",
    "\n",
    "plt.figure(figsize=(10, 6))\n",
    "\n",
    "# Plot train accuracy\n",
    "plt.bar(x, train_accuracies, width=0.4, label='Training Accuracy', align='center')\n",
    "\n",
    "# Plot test accuracy\n",
    "plt.bar([i + 0.4 for i in x], test_accuracies, width=0.4, label='Test Accuracy', align='center')\n",
    "\n",
    "# Add labels and title\n",
    "plt.xlabel('Models')\n",
    "plt.ylabel('Accuracy')\n",
    "plt.title('Training and Test Accuracy of Models')\n",
    "plt.xticks([i + 0.2 for i in x], labels)\n",
    "plt.legend()\n",
    "\n",
    "# Display the plot\n",
    "plt.show()\n"
   ]
  },
  {
   "cell_type": "code",
   "execution_count": 109,
   "metadata": {},
   "outputs": [
    {
     "name": "stderr",
     "output_type": "stream",
     "text": [
      "c:\\Users\\User\\anaconda3\\lib\\site-packages\\xgboost\\core.py:158: UserWarning: [23:15:18] WARNING: C:\\buildkite-agent\\builds\\buildkite-windows-cpu-autoscaling-group-i-0015a694724fa8361-1\\xgboost\\xgboost-ci-windows\\src\\learner.cc:740: \n",
      "Parameters: { \"n_estimators\" } are not used.\n",
      "\n",
      "  warnings.warn(smsg, UserWarning)\n"
     ]
    },
    {
     "data": {
      "image/png": "[encoded data removed]",
      "text/plain": [
       "<Figure size 720x432 with 1 Axes>"
      ]
     },
     "metadata": {
      "needs_background": "light"
     },
     "output_type": "display_data"
    }
   ],
   "source": [
    "import matplotlib.pyplot as plt\n",
    "from sklearn.metrics import accuracy_score\n",
    "\n",
    "# Initialize a dictionary to store the results\n",
    "results = {}\n",
    "\n",
    "# Random Forest Model\n",
    "rf_model = RandomForestClassifier(n_estimators=100, random_state=42)\n",
    "rf_model.fit(X_train, y_train)\n",
    "\n",
    "# Random Forest Predictions and Accuracy\n",
    "y_pred_train_rf = rf_model.predict(X_train)\n",
    "y_pred_test_rf = rf_model.predict(X_test)\n",
    "rf_train_accuracy = accuracy_score(y_train, y_pred_train_rf)\n",
    "rf_test_accuracy = accuracy_score(y_test, y_pred_test_rf)\n",
    "\n",
    "# Store Random Forest results\n",
    "results['Random Forest'] = {\n",
    "    'train_accuracy': rf_train_accuracy,\n",
    "    'test_accuracy': rf_test_accuracy\n",
    "}\n",
    "\n",
    "# CatBoost Model\n",
    "cat_model = CatBoostClassifier(verbose=0)\n",
    "cat_model.fit(X_train, y_train)\n",
    "\n",
    "# CatBoost Predictions and Accuracy\n",
    "y_pred_train_cat = cat_model.predict(X_train)\n",
    "y_pred_test_cat = cat_model.predict(X_test)\n",
    "cat_train_accuracy = accuracy_score(y_train, y_pred_train_cat)\n",
    "cat_test_accuracy = accuracy_score(y_test, y_pred_test_cat)\n",
    "\n",
    "# Store CatBoost results\n",
    "results['CatBoost'] = {\n",
    "    'train_accuracy': cat_train_accuracy,\n",
    "    'test_accuracy': cat_test_accuracy\n",
    "}\n",
    "\n",
    "# XGBoost Model\n",
    "dtrain = xgb.DMatrix(X_train, label=y_train)\n",
    "dtest = xgb.DMatrix(X_test, label=y_test)\n",
    "\n",
    "params = {\n",
    "    'objective': 'multi:softmax',\n",
    "    'num_class': len(le.classes_),\n",
    "    'max_depth': 6,\n",
    "    'learning_rate': 0.1,\n",
    "    'n_estimators': 100\n",
    "}\n",
    "\n",
    "bst = xgb.train(params, dtrain, num_boost_round=100)\n",
    "\n",
    "# XGBoost Predictions and Accuracy\n",
    "y_pred_train_xgb = bst.predict(dtrain)\n",
    "y_pred_test_xgb = bst.predict(dtest)\n",
    "xgb_train_accuracy = accuracy_score(y_train, y_pred_train_xgb)\n",
    "xgb_test_accuracy = accuracy_score(y_test, y_pred_test_xgb)\n",
    "\n",
    "# Store XGBoost results\n",
    "results['XGBoost'] = {\n",
    "    'train_accuracy': xgb_train_accuracy,\n",
    "    'test_accuracy': xgb_test_accuracy\n",
    "}\n",
    "\n",
    "# Plot the results\n",
    "labels = list(results.keys())\n",
    "train_accuracies = [results[model]['train_accuracy'] for model in labels]\n",
    "test_accuracies = [results[model]['test_accuracy'] for model in labels]\n",
    "\n",
    "x = range(len(labels))\n",
    "\n",
    "plt.figure(figsize=(10, 6))\n",
    "\n",
    "# Plot train accuracy line\n",
    "plt.plot(x, train_accuracies, marker='o', linestyle='-', color='blue', label='Training Accuracy')\n",
    "\n",
    "# Plot test accuracy line\n",
    "plt.plot(x, test_accuracies, marker='o', linestyle='-', color='red', label='Test Accuracy')\n",
    "\n",
    "# Add labels and title\n",
    "plt.xlabel('Models')\n",
    "plt.ylabel('Accuracy')\n",
    "plt.title('Training and Test Accuracy of Models')\n",
    "plt.xticks(x, labels)\n",
    "plt.legend()\n",
    "\n",
    "# Display the plot\n",
    "plt.show()\n"
   ]
  },
  {
   "cell_type": "code",
   "execution_count": 110,
   "metadata": {},
   "outputs": [
    {
     "data": {
      "image/png": "[encoded data removed]",
      "text/plain": [
       "<Figure size 432x288 with 2 Axes>"
      ]
     },
     "metadata": {
      "needs_background": "light"
     },
     "output_type": "display_data"
    },
    {
     "data": {
      "image/png": "[encoded data removed]",
      "text/plain": [
       "<Figure size 432x288 with 2 Axes>"
      ]
     },
     "metadata": {
      "needs_background": "light"
     },
     "output_type": "display_data"
    },
    {
     "data": {
      "image/png": "[encoded data removed]",
      "text/plain": [
       "<Figure size 432x288 with 2 Axes>"
      ]
     },
     "metadata": {
      "needs_background": "light"
     },
     "output_type": "display_data"
    }
   ],
   "source": [
    "from sklearn.metrics import confusion_matrix, ConfusionMatrixDisplay\n",
    "\n",
    "# Confusion Matrix for Random Forest\n",
    "rf_cm = confusion_matrix(y_test, y_pred_test_rf)\n",
    "ConfusionMatrixDisplay(rf_cm, display_labels=le.classes_).plot()\n",
    "plt.title('Random Forest Confusion Matrix')\n",
    "plt.show()\n",
    "\n",
    "# Confusion Matrix for CatBoost\n",
    "cat_cm = confusion_matrix(y_test, y_pred_test_cat)\n",
    "ConfusionMatrixDisplay(cat_cm, display_labels=le.classes_).plot()\n",
    "plt.title('CatBoost Confusion Matrix')\n",
    "plt.show()\n",
    "\n",
    "# Confusion Matrix for XGBoost\n",
    "xgb_cm = confusion_matrix(y_test, y_pred_test_xgb)\n",
    "ConfusionMatrixDisplay(xgb_cm, display_labels=le.classes_).plot()\n",
    "plt.title('XGBoost Confusion Matrix')\n",
    "plt.show()\n"
   ]
  },
  {
   "cell_type": "code",
   "execution_count": 111,
   "metadata": {},
   "outputs": [
    {
     "name": "stdout",
     "output_type": "stream",
     "text": [
      "Random Forest Classification Report\n",
      "              precision    recall  f1-score   support\n",
      "\n",
      "        -1.0       0.95      0.82      0.88        22\n",
      "         0.0       0.83      0.83      0.83       145\n",
      "         1.0       0.82      0.88      0.85       301\n",
      "         2.0       0.88      0.82      0.85       244\n",
      "         3.0       1.00      0.94      0.97        36\n",
      "         4.0       1.00      1.00      1.00         3\n",
      "\n",
      "    accuracy                           0.85       751\n",
      "   macro avg       0.91      0.88      0.90       751\n",
      "weighted avg       0.85      0.85      0.85       751\n",
      "\n",
      "\n",
      "CatBoost Classification Report\n",
      "              precision    recall  f1-score   support\n",
      "\n",
      "        -1.0       0.94      0.77      0.85        22\n",
      "         0.0       0.79      0.83      0.81       145\n",
      "         1.0       0.81      0.84      0.82       301\n",
      "         2.0       0.83      0.80      0.81       244\n",
      "         3.0       1.00      0.92      0.96        36\n",
      "         4.0       1.00      1.00      1.00         3\n",
      "\n",
      "    accuracy                           0.83       751\n",
      "   macro avg       0.90      0.86      0.88       751\n",
      "weighted avg       0.83      0.83      0.83       751\n",
      "\n",
      "\n",
      "XGBoost Classification Report\n",
      "              precision    recall  f1-score   support\n",
      "\n",
      "        -1.0       0.94      0.68      0.79        22\n",
      "         0.0       0.82      0.79      0.80       145\n",
      "         1.0       0.81      0.82      0.82       301\n",
      "         2.0       0.78      0.81      0.80       244\n",
      "         3.0       1.00      0.92      0.96        36\n",
      "         4.0       1.00      1.00      1.00         3\n",
      "\n",
      "    accuracy                           0.81       751\n",
      "   macro avg       0.89      0.84      0.86       751\n",
      "weighted avg       0.82      0.81      0.81       751\n",
      "\n"
     ]
    }
   ],
   "source": [
    "# Ensure target_names are strings\n",
    "target_names = [str(cls) for cls in le.classes_]\n",
    "\n",
    "# Classification report for Random Forest\n",
    "print(\"Random Forest Classification Report\")\n",
    "print(classification_report(y_test, y_pred_test_rf, target_names=target_names))\n",
    "\n",
    "# Classification report for CatBoost\n",
    "print(\"\\nCatBoost Classification Report\")\n",
    "print(classification_report(y_test, y_pred_test_cat, target_names=target_names))\n",
    "\n",
    "# Classification report for XGBoost\n",
    "print(\"\\nXGBoost Classification Report\")\n",
    "print(classification_report(y_test, y_pred_test_xgb, target_names=target_names))\n",
    "\n"
   ]
  },
  {
   "cell_type": "code",
   "execution_count": 112,
   "metadata": {},
   "outputs": [
    {
     "data": {
      "image/png": "[encoded data removed]",
      "text/plain": [
       "<Figure size 720x432 with 1 Axes>"
      ]
     },
     "metadata": {
      "needs_background": "light"
     },
     "output_type": "display_data"
    },
    {
     "data": {
      "image/png": "[encoded data removed]",
      "text/plain": [
       "<Figure size 720x432 with 1 Axes>"
      ]
     },
     "metadata": {
      "needs_background": "light"
     },
     "output_type": "display_data"
    },
    {
     "data": {
      "image/png": "[encoded data removed]",
      "text/plain": [
       "<Figure size 720x432 with 1 Axes>"
      ]
     },
     "metadata": {
      "needs_background": "light"
     },
     "output_type": "display_data"
    }
   ],
   "source": [
    "import pandas as pd\n",
    "import matplotlib.pyplot as plt\n",
    "\n",
    "# 1. Random Forest Feature Importance\n",
    "rf_feature_importance = rf_model.feature_importances_\n",
    "\n",
    "# Create a DataFrame for better visualization\n",
    "rf_feature_importance_df = pd.DataFrame({\n",
    "    'Feature': X_train.columns,\n",
    "    'Importance': rf_feature_importance\n",
    "}).sort_values(by='Importance', ascending=False)\n",
    "\n",
    "# Plot feature importance for Random Forest\n",
    "plt.figure(figsize=(10, 6))\n",
    "plt.barh(rf_feature_importance_df['Feature'], rf_feature_importance_df['Importance'])\n",
    "plt.xlabel('Importance')\n",
    "plt.title('Random Forest Feature Importance')\n",
    "plt.gca().invert_yaxis()  # To display the most important at the top\n",
    "plt.show()\n",
    "\n",
    "# 2. CatBoost Feature Importance\n",
    "cat_feature_importance = cat_model.get_feature_importance()\n",
    "\n",
    "# Create a DataFrame for CatBoost feature importance\n",
    "cat_feature_importance_df = pd.DataFrame({\n",
    "    'Feature': X_train.columns,\n",
    "    'Importance': cat_feature_importance\n",
    "}).sort_values(by='Importance', ascending=False)\n",
    "\n",
    "# Plot feature importance for CatBoost\n",
    "plt.figure(figsize=(10, 6))\n",
    "plt.barh(cat_feature_importance_df['Feature'], cat_feature_importance_df['Importance'])\n",
    "plt.xlabel('Importance')\n",
    "plt.title('CatBoost Feature Importance')\n",
    "plt.gca().invert_yaxis()  # To display the most important at the top\n",
    "plt.show()\n",
    "\n",
    "# 3. XGBoost Feature Importance\n",
    "xgb_feature_importance = bst.get_score(importance_type='weight')\n",
    "\n",
    "# Convert to DataFrame for easier plotting\n",
    "xgb_feature_importance_df = pd.DataFrame({\n",
    "    'Feature': list(xgb_feature_importance.keys()),\n",
    "    'Importance': list(xgb_feature_importance.values())\n",
    "}).sort_values(by='Importance', ascending=False)\n",
    "\n",
    "# Plot feature importance for XGBoost\n",
    "plt.figure(figsize=(10, 6))\n",
    "plt.barh(xgb_feature_importance_df['Feature'], xgb_feature_importance_df['Importance'])\n",
    "plt.xlabel('Importance')\n",
    "plt.title('XGBoost Feature Importance')\n",
    "plt.gca().invert_yaxis()  # To display the most important at the top\n",
    "plt.show()\n"
   ]
  },
  {
   "cell_type": "code",
   "execution_count": null,
   "metadata": {},
   "outputs": [],
   "source": []
  }
 ],
 "metadata": {
  "kernelspec": {
   "display_name": "base",
   "language": "python",
   "name": "python3"
  },
  "language_info": {
   "codemirror_mode": {
    "name": "ipython",
    "version": 3
   },
   "file_extension": ".py",
   "mimetype": "text/x-python",
   "name": "python",
   "nbconvert_exporter": "python",
   "pygments_lexer": "ipython3",
   "version": "3.8.8"
  }
 },
 "nbformat": 4,
 "nbformat_minor": 2
}
